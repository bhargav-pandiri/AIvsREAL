{
  "nbformat": 4,
  "nbformat_minor": 0,
  "metadata": {
    "colab": {
      "provenance": []
    },
    "kernelspec": {
      "name": "python3",
      "display_name": "Python 3"
    },
    "language_info": {
      "name": "python"
    }
  },
  "cells": [
    {
      "cell_type": "code",
      "execution_count": 1,
      "metadata": {
        "id": "HXsgR_ICOSFp"
      },
      "outputs": [],
      "source": [
        "import os\n",
        "import numpy as np\n",
        "import cv2\n",
        "from sklearn.model_selection import train_test_split\n",
        "from google.colab.patches import cv2_imshow\n",
        "import matplotlib.pyplot as plt\n"
      ]
    },
    {
      "cell_type": "code",
      "source": [
        "import tensorflow as tf\n",
        "\n",
        "\n",
        "\n",
        "train , validation = tf.keras.utils.image_dataset_from_directory(\"/content/drive/MyDrive/Colab Notebooks/Dataset\",\n",
        "                                                                 labels=\"inferred\",\n",
        "                                                                 label_mode=\"int\",\n",
        "                                                                 validation_split=0.3,\n",
        "                                                                 image_size = (224,224),\n",
        "                                                                 seed=23,\n",
        "                                                                 color_mode=\"rgb\",\n",
        "                                                                 subset=\"both\")"
      ],
      "metadata": {
        "colab": {
          "base_uri": "https://localhost:8080/"
        },
        "id": "-Ton57FmOc3H",
        "outputId": "d8ff7ae2-5d09-4a5d-ed93-2034a947a0eb"
      },
      "execution_count": 2,
      "outputs": [
        {
          "output_type": "stream",
          "name": "stdout",
          "text": [
            "Found 23801 files belonging to 2 classes.\n",
            "Using 16661 files for training.\n",
            "Using 7140 files for validation.\n"
          ]
        }
      ]
    },
    {
      "cell_type": "code",
      "source": [
        "from tensorflow.keras.applications import MobileNet\n",
        "from tensorflow.keras import layers, models, Input\n",
        "\n",
        "# Define input shape\n",
        "input_shape = (224, 224, 3)\n",
        "inputs = Input(shape=input_shape)\n",
        "\n",
        "# Load MobileNet without weights\n",
        "base_model = MobileNet(weights=None, include_top=False, input_tensor=inputs)\n",
        "\n",
        "# Add custom classifier\n",
        "x = layers.GlobalAveragePooling2D()(base_model.output)\n",
        "x = layers.Dense(256, activation='relu')(x)\n",
        "x = layers.Dropout(0.5)(x)\n",
        "output_layer = layers.Dense(2, activation='softmax')(x)  # For binary classification\n",
        "\n",
        "# Create final model\n",
        "model = models.Model(inputs=base_model.input, outputs=output_layer)\n",
        "\n"
      ],
      "metadata": {
        "id": "R9imyVdyOwKd"
      },
      "execution_count": 3,
      "outputs": []
    },
    {
      "cell_type": "code",
      "source": [
        "model.compile(\n",
        "    optimizer='adam',\n",
        "    loss='sparse_categorical_crossentropy',\n",
        "    metrics=['accuracy']\n",
        ")\n"
      ],
      "metadata": {
        "id": "g3ABDYOcPJ5C"
      },
      "execution_count": 4,
      "outputs": []
    },
    {
      "cell_type": "code",
      "source": [
        "model.fit(train,validation_data=validation,epochs=10)"
      ],
      "metadata": {
        "colab": {
          "base_uri": "https://localhost:8080/"
        },
        "id": "Hcdd4f7oP_E5",
        "outputId": "66c66ec8-f62e-45e5-daa4-013d66ef8fd7"
      },
      "execution_count": 8,
      "outputs": [
        {
          "output_type": "stream",
          "name": "stdout",
          "text": [
            "Epoch 1/10\n",
            "\u001b[1m521/521\u001b[0m \u001b[32m━━━━━━━━━━━━━━━━━━━━\u001b[0m\u001b[37m\u001b[0m \u001b[1m111s\u001b[0m 212ms/step - accuracy: 0.9025 - loss: 0.2357 - val_accuracy: 0.8618 - val_loss: 0.3980\n",
            "Epoch 2/10\n",
            "\u001b[1m521/521\u001b[0m \u001b[32m━━━━━━━━━━━━━━━━━━━━\u001b[0m\u001b[37m\u001b[0m \u001b[1m142s\u001b[0m 213ms/step - accuracy: 0.9040 - loss: 0.2266 - val_accuracy: 0.6538 - val_loss: 1.8811\n",
            "Epoch 3/10\n",
            "\u001b[1m521/521\u001b[0m \u001b[32m━━━━━━━━━━━━━━━━━━━━\u001b[0m\u001b[37m\u001b[0m \u001b[1m125s\u001b[0m 181ms/step - accuracy: 0.9142 - loss: 0.2054 - val_accuracy: 0.8678 - val_loss: 0.3098\n",
            "Epoch 4/10\n",
            "\u001b[1m521/521\u001b[0m \u001b[32m━━━━━━━━━━━━━━━━━━━━\u001b[0m\u001b[37m\u001b[0m \u001b[1m142s\u001b[0m 181ms/step - accuracy: 0.9195 - loss: 0.1898 - val_accuracy: 0.8506 - val_loss: 0.4870\n",
            "Epoch 5/10\n",
            "\u001b[1m521/521\u001b[0m \u001b[32m━━━━━━━━━━━━━━━━━━━━\u001b[0m\u001b[37m\u001b[0m \u001b[1m142s\u001b[0m 181ms/step - accuracy: 0.9236 - loss: 0.1818 - val_accuracy: 0.8978 - val_loss: 0.2410\n",
            "Epoch 6/10\n",
            "\u001b[1m521/521\u001b[0m \u001b[32m━━━━━━━━━━━━━━━━━━━━\u001b[0m\u001b[37m\u001b[0m \u001b[1m158s\u001b[0m 211ms/step - accuracy: 0.9332 - loss: 0.1669 - val_accuracy: 0.8871 - val_loss: 0.3295\n",
            "Epoch 7/10\n",
            "\u001b[1m521/521\u001b[0m \u001b[32m━━━━━━━━━━━━━━━━━━━━\u001b[0m\u001b[37m\u001b[0m \u001b[1m126s\u001b[0m 182ms/step - accuracy: 0.9363 - loss: 0.1621 - val_accuracy: 0.8814 - val_loss: 0.4218\n",
            "Epoch 8/10\n",
            "\u001b[1m521/521\u001b[0m \u001b[32m━━━━━━━━━━━━━━━━━━━━\u001b[0m\u001b[37m\u001b[0m \u001b[1m144s\u001b[0m 185ms/step - accuracy: 0.9393 - loss: 0.1475 - val_accuracy: 0.8845 - val_loss: 0.3866\n",
            "Epoch 9/10\n",
            "\u001b[1m521/521\u001b[0m \u001b[32m━━━━━━━━━━━━━━━━━━━━\u001b[0m\u001b[37m\u001b[0m \u001b[1m141s\u001b[0m 182ms/step - accuracy: 0.9472 - loss: 0.1321 - val_accuracy: 0.8580 - val_loss: 0.4133\n",
            "Epoch 10/10\n",
            "\u001b[1m521/521\u001b[0m \u001b[32m━━━━━━━━━━━━━━━━━━━━\u001b[0m\u001b[37m\u001b[0m \u001b[1m158s\u001b[0m 213ms/step - accuracy: 0.9543 - loss: 0.1137 - val_accuracy: 0.8976 - val_loss: 0.2715\n"
          ]
        },
        {
          "output_type": "execute_result",
          "data": {
            "text/plain": [
              "<keras.src.callbacks.history.History at 0x79a73d0a34d0>"
            ]
          },
          "metadata": {},
          "execution_count": 8
        }
      ]
    },
    {
      "cell_type": "code",
      "source": [
        "model.save(\"mobile_net.h5\")"
      ],
      "metadata": {
        "colab": {
          "base_uri": "https://localhost:8080/"
        },
        "id": "mjdmB734UCv0",
        "outputId": "76a02e44-489f-4bd8-c3fa-5589fb94e8cb"
      },
      "execution_count": 10,
      "outputs": [
        {
          "output_type": "stream",
          "name": "stderr",
          "text": [
            "WARNING:absl:You are saving your model as an HDF5 file via `model.save()` or `keras.saving.save_model(model)`. This file format is considered legacy. We recommend using instead the native Keras format, e.g. `model.save('my_model.keras')` or `keras.saving.save_model(model, 'my_model.keras')`. \n"
          ]
        }
      ]
    },
    {
      "cell_type": "code",
      "source": [
        "pred_img = cv2.imread('/content/drive/MyDrive/Ai vs real/Real/147660_1.jpg')"
      ],
      "metadata": {
        "id": "QJ_MN2bVQKwq"
      },
      "execution_count": 11,
      "outputs": []
    },
    {
      "cell_type": "code",
      "source": [
        "pred_image = cv2.resize(pred_img,(224,224))"
      ],
      "metadata": {
        "id": "OBEjcIPrWj1t"
      },
      "execution_count": 12,
      "outputs": []
    },
    {
      "cell_type": "code",
      "source": [
        "pred_image = cv2.cvtColor(pred_image,cv2.COLOR_BGR2RGB)"
      ],
      "metadata": {
        "id": "jFhtozrFWntP"
      },
      "execution_count": 13,
      "outputs": []
    },
    {
      "cell_type": "code",
      "source": [
        "pred_image = np.array(pred_image)"
      ],
      "metadata": {
        "id": "SeUXCzlDWrbO"
      },
      "execution_count": 14,
      "outputs": []
    },
    {
      "cell_type": "code",
      "source": [
        "pred_image = np.expand_dims(pred_image,axis=0)"
      ],
      "metadata": {
        "id": "p9WPnd0MWvoY"
      },
      "execution_count": 15,
      "outputs": []
    },
    {
      "cell_type": "code",
      "source": [
        "model.predict(pred_image)"
      ],
      "metadata": {
        "colab": {
          "base_uri": "https://localhost:8080/"
        },
        "id": "bJN73gxoWzek",
        "outputId": "c9d24c6c-0ab1-4b89-ed7d-05e5632a5973"
      },
      "execution_count": 16,
      "outputs": [
        {
          "output_type": "stream",
          "name": "stdout",
          "text": [
            "\u001b[1m1/1\u001b[0m \u001b[32m━━━━━━━━━━━━━━━━━━━━\u001b[0m\u001b[37m\u001b[0m \u001b[1m3s\u001b[0m 3s/step\n"
          ]
        },
        {
          "output_type": "execute_result",
          "data": {
            "text/plain": [
              "array([[0.2912873, 0.7087127]], dtype=float32)"
            ]
          },
          "metadata": {},
          "execution_count": 16
        }
      ]
    },
    {
      "cell_type": "code",
      "source": [
        "label = np.argmax(model.predict(pred_image))"
      ],
      "metadata": {
        "colab": {
          "base_uri": "https://localhost:8080/"
        },
        "id": "OSY-V9bSW54L",
        "outputId": "7883c62b-9f8e-4f48-ea8a-4b802dbe96d9"
      },
      "execution_count": 17,
      "outputs": [
        {
          "output_type": "stream",
          "name": "stdout",
          "text": [
            "\u001b[1m1/1\u001b[0m \u001b[32m━━━━━━━━━━━━━━━━━━━━\u001b[0m\u001b[37m\u001b[0m \u001b[1m0s\u001b[0m 19ms/step\n"
          ]
        }
      ]
    },
    {
      "cell_type": "code",
      "source": [
        "print(label)"
      ],
      "metadata": {
        "colab": {
          "base_uri": "https://localhost:8080/"
        },
        "id": "-HuunDeSW-iJ",
        "outputId": "17a568c3-92d6-4343-914b-11dd0977b0aa"
      },
      "execution_count": 18,
      "outputs": [
        {
          "output_type": "stream",
          "name": "stdout",
          "text": [
            "1\n"
          ]
        }
      ]
    },
    {
      "cell_type": "code",
      "source": [],
      "metadata": {
        "id": "L9DmeURqXBGm"
      },
      "execution_count": null,
      "outputs": []
    }
  ]
}